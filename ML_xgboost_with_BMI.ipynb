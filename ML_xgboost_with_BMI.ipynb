{
  "nbformat": 4,
  "nbformat_minor": 0,
  "metadata": {
    "colab": {
      "provenance": []
    },
    "kernelspec": {
      "name": "python3",
      "display_name": "Python 3"
    },
    "language_info": {
      "name": "python"
    }
  },
  "cells": [
    {
      "cell_type": "code",
      "execution_count": 1,
      "metadata": {
        "colab": {
          "base_uri": "https://localhost:8080/"
        },
        "id": "0s48jL6-Zylx",
        "outputId": "f8aa6234-b8d4-430c-9443-c145ba5417a0"
      },
      "outputs": [
        {
          "output_type": "stream",
          "name": "stdout",
          "text": [
            "Starting XGBoost Hyperparameter Tuning...\n",
            "Fitting 5 folds for each of 54 candidates, totalling 270 fits\n"
          ]
        },
        {
          "output_type": "stream",
          "name": "stderr",
          "text": [
            "/usr/local/lib/python3.12/dist-packages/xgboost/training.py:199: UserWarning: [07:32:01] WARNING: /workspace/src/learner.cc:790: \n",
            "Parameters: { \"use_label_encoder\" } are not used.\n",
            "\n",
            "  bst.update(dtrain, iteration=i, fobj=obj)\n"
          ]
        },
        {
          "output_type": "stream",
          "name": "stdout",
          "text": [
            "\n",
            "Best Parameters found by Grid Search:\n",
            "{'learning_rate': 0.05, 'max_depth': 3, 'n_estimators': 500, 'subsample': 0.7}\n",
            "\n",
            "Best Cross-Validation Accuracy: 0.9047\n",
            "Validation Accuracy with Tuned XGBoost: 0.9038\n"
          ]
        }
      ],
      "source": [
        "import pandas as pd\n",
        "from sklearn.model_selection import StratifiedKFold, GridSearchCV, train_test_split\n",
        "from sklearn.preprocessing import LabelEncoder\n",
        "from xgboost import XGBClassifier\n",
        "from sklearn.metrics import accuracy_score\n",
        "\n",
        "df_train = pd.read_csv(\"/content/drive/MyDrive/ait-511-course-project-1-obesity-risk/train.csv\")\n",
        "\n",
        "df_train['BMI'] = df_train['Weight'] / (df_train['Height'] ** 2)\n",
        "\n",
        "X = df_train.drop(['id', 'WeightCategory'], axis=1)\n",
        "y = df_train['WeightCategory']\n",
        "\n",
        "le = LabelEncoder()\n",
        "y_encoded = le.fit_transform(y)\n",
        "\n",
        "X_encoded = pd.get_dummies(X, drop_first=True)\n",
        "\n",
        "X_train, X_val, y_train, y_val = train_test_split(\n",
        "    X_encoded, y_encoded, test_size=0.2, random_state=42, stratify=y_encoded\n",
        ")\n",
        "\n",
        "xgb_model = XGBClassifier(\n",
        "    objective='multi:softmax',\n",
        "    num_class=len(le.classes_),\n",
        "    eval_metric='merror',\n",
        "    use_label_encoder=False,\n",
        "    random_state=42,\n",
        "    n_jobs=-1\n",
        ")\n",
        "\n",
        "param_grid = {\n",
        "    'n_estimators': [300, 400, 500],\n",
        "    'learning_rate': [0.05, 0.1, 0.3,],\n",
        "    'max_depth': [3,5,7],\n",
        "    'subsample': [0.7,0.8]\n",
        "}\n",
        "\n",
        "cv = StratifiedKFold(n_splits=5, shuffle=True, random_state=42)\n",
        "\n",
        "grid_search = GridSearchCV(\n",
        "    estimator=xgb_model,\n",
        "    param_grid=param_grid,\n",
        "    scoring='accuracy',\n",
        "    cv=cv,\n",
        "    verbose=1,\n",
        "    n_jobs=-1\n",
        ")\n",
        "\n",
        "print(\"Starting XGBoost Hyperparameter Tuning...\")\n",
        "grid_search.fit(X_train, y_train)\n",
        "\n",
        "print(\"\\nBest Parameters found by Grid Search:\")\n",
        "print(grid_search.best_params_)\n",
        "\n",
        "print(f\"\\nBest Cross-Validation Accuracy: {grid_search.best_score_:.4f}\")\n",
        "\n",
        "best_xgb_model = grid_search.best_estimator_\n",
        "y_pred = best_xgb_model.predict(X_val)\n",
        "\n",
        "final_accuracy = accuracy_score(y_val, y_pred)\n",
        "print(f\"Validation Accuracy with Tuned XGBoost: {final_accuracy:.4f}\")"
      ]
    },
    {
      "cell_type": "code",
      "source": [
        "x_test = pd.read_csv(\"/content/drive/MyDrive/ait-511-course-project-1-obesity-risk/test.csv\")\n",
        "test_ids = x_test['id']\n",
        "x_test = x_test.drop(['id'], axis=1)\n",
        "x_test['BMI'] = x_test['Weight'] / (x_test['Height'] ** 2)\n",
        "x_test_encoded = pd.get_dummies(x_test, drop_first=True)\n",
        "y_pred = best_xgb_model.predict(x_test_encoded)\n",
        "y_test_pred = le.inverse_transform(y_pred)\n",
        "submission = pd.DataFrame({\n",
        "    'id': test_ids,\n",
        "    'WeightCategory': y_test_pred\n",
        "})\n",
        "submission.to_csv('/content/drive/MyDrive/ait-511-course-project-1-obesity-risk/submission_xg_bmi.csv', index=False)"
      ],
      "metadata": {
        "id": "sJk5YM9S27lK"
      },
      "execution_count": 2,
      "outputs": []
    }
  ]
}